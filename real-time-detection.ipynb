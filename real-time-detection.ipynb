{
 "cells": [
  {
   "cell_type": "markdown",
   "id": "5d74fc31",
   "metadata": {},
   "source": [
    "# Real Time Mask Detection (GITHUB)"
   ]
  },
  {
   "cell_type": "code",
   "execution_count": 1,
   "id": "5e3a7b7f",
   "metadata": {},
   "outputs": [],
   "source": [
    "import numpy as np\n",
    "import imutils\n",
    "from imutils.video import VideoStream\n",
    "from tensorflow.keras.applications import MobileNetV2\n",
    "from tensorflow.keras.applications.mobilenet_v2 import preprocess_input\n",
    "from tensorflow.keras.preprocessing.image import img_to_array\n",
    "from tensorflow.keras.models import load_model\n",
    "import cv2\n",
    "import dlib\n",
    "import os\n",
    "import time"
   ]
  },
  {
   "cell_type": "markdown",
   "id": "d19768be",
   "metadata": {},
   "source": [
    "## A function to detect the face and make the prediction"
   ]
  },
  {
   "cell_type": "code",
   "execution_count": 2,
   "id": "ffd3a150",
   "metadata": {},
   "outputs": [],
   "source": [
    "def detectnpredict(frame, net, model):\n",
    "    (h,w) = frame.shape[:2]\n",
    "    blob = cv2.dnn.blobFromImage(frame, 1.0, (300,300), (104.0, 177.0, 123.0))\n",
    "    net.setInput(blob)\n",
    "    detections = net.forward()\n",
    "    \n",
    "    detected_faces = []\n",
    "    locs = []\n",
    "    predictions = []\n",
    "    \n",
    "    for i in range(len(detections[0,0])):\n",
    "        confidence = detections[0,0,i,2]\n",
    "        \n",
    "        if confidence > conf_thresh:\n",
    "            startx,starty,endx,endy = (detections[0,0,i,3:7] * np.array([w,h,w,h])).astype('int')\n",
    "            detected_face = frame[starty:endy, startx:endx]\n",
    "            detected_face = cv2.cvtColor(detected_face, cv2.COLOR_BGR2RGB)\n",
    "        \n",
    "            detected_face = cv2.resize(detected_face, (224,224)) \n",
    "       \n",
    "            detected_face = img_to_array(detected_face)\n",
    "        \n",
    "            detected_face  = preprocess_input(detected_face)\n",
    "            detected_faces.append(detected_face)\n",
    "            locs.append((startx,starty,endx,endy))\n",
    "            \n",
    "    if len(detected_faces) > 0: \n",
    "        detected_faces = np.array(detected_faces, dtype = 'float32') #faces is a list. so converting into a numpy array\n",
    "        predictions  = model.predict(detected_faces, batch_size = 32) \n",
    "    return locs,predictions\n",
    "    \n",
    "    "
   ]
  },
  {
   "cell_type": "markdown",
   "id": "25031032",
   "metadata": {},
   "source": [
    "## Intialize and load the model"
   ]
  },
  {
   "cell_type": "code",
   "execution_count": 3,
   "id": "182b183f",
   "metadata": {},
   "outputs": [],
   "source": [
    "model = load_model('models/mob_model.h5')\n",
    "caffe_path = 'models/res10_300x300_ssd_iter_140000.caffemodel'\n",
    "proto_path = 'models/deploy.prototxt'\n",
    " \n",
    "conf_thresh = 0.8\n",
    "\n",
    "net = cv2.dnn.readNet(caffe_path, proto_path)\n",
    "\n",
    "#start camera\n",
    "\n",
    "vs = VideoStream(src = 0).start()\n",
    "time.sleep(2.0)"
   ]
  },
  {
   "cell_type": "code",
   "execution_count": null,
   "id": "83948fa5",
   "metadata": {},
   "outputs": [],
   "source": [
    "while True:\n",
    "    frame = vs.read()\n",
    "    frame = imutils.resize(frame, width = 400)\n",
    "    \n",
    "    locs,preds = detectnpredict(frame, net, model)\n",
    "    \n",
    "    for box,pred in zip(locs,preds):\n",
    "        startx,starty,endx, endy = box\n",
    "        (mask,nomask) = pred\n",
    "        \n",
    "        label = \"Mask\" if mask > nomask else \"No Mask\"\n",
    "        label  = \"{}: {:.2f}%\".format(label, max(mask,nomask)*100)\n",
    "            \n",
    "        color = (0,255,0) if mask> nomask else (0,0,255) #BGR form\n",
    "        \n",
    "            \n",
    "        cv2.putText(frame, label, (startx,starty-10), cv2.FONT_HERSHEY_SIMPLEX, 0.45, color, 1)\n",
    "        cv2.rectangle(frame, (startx,starty), (endx,endy), color, 2)\n",
    "        \n",
    "    \n",
    "            \n",
    "            \n",
    "            \n",
    "    cv2.imshow('Frame', frame)\n",
    "    key = cv2.waitKey(1) & 0xFF\n",
    "    if key == ord('q'):\n",
    "        break\n",
    "\n",
    "print(\"Recording has stopped\")        \n",
    "vs.stop()\n",
    "cv2.destroyAllWindows()\n",
    "cv2.waitKey(0)\n"
   ]
  },
  {
   "cell_type": "markdown",
   "id": "1f77c4e9",
   "metadata": {},
   "source": [
    "# THE END"
   ]
  }
 ],
 "metadata": {
  "kernelspec": {
   "display_name": "maskdet",
   "language": "python",
   "name": "maskdet"
  },
  "language_info": {
   "codemirror_mode": {
    "name": "ipython",
    "version": 3
   },
   "file_extension": ".py",
   "mimetype": "text/x-python",
   "name": "python",
   "nbconvert_exporter": "python",
   "pygments_lexer": "ipython3",
   "version": "3.8.8"
  }
 },
 "nbformat": 4,
 "nbformat_minor": 5
}
