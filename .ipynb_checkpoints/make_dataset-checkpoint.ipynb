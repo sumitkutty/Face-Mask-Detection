{
 "cells": [
  {
   "cell_type": "code",
   "execution_count": 1,
   "id": "0ac5b345",
   "metadata": {},
   "outputs": [],
   "source": [
    "from imutils.video import VideoStream\n",
    "import imutils\n",
    "import time\n",
    "import cv2\n",
    "import os"
   ]
  },
  {
   "cell_type": "code",
   "execution_count": 2,
   "id": "9ecd68fe",
   "metadata": {},
   "outputs": [
    {
     "name": "stdout",
     "output_type": "stream",
     "text": [
      "[INFO] starting video stream...\n"
     ]
    }
   ],
   "source": [
    "detector = cv2.CascadeClassifier('cascade/haarcascade_frontalface_default.xml')\n",
    "# initialize the video stream, allow the camera sensor to warm up,\n",
    "# and initialize the total number of example faces written to disk\n",
    "# thus far\n",
    "print(\"[INFO] starting video stream...\")\n",
    "vs = VideoStream(src=0).start()\n",
    "# vs = VideoStream(usePiCamera=True).start()\n",
    "time.sleep(2.0)\n",
    "total = 0"
   ]
  },
  {
   "cell_type": "code",
   "execution_count": null,
   "id": "9168055d",
   "metadata": {},
   "outputs": [],
   "source": [
    "while True:\n",
    "    # grab the frame from the threaded video stream, clone it, (just\n",
    "    # in case we want to write it to disk), and then resize the frame\n",
    "    # so we can apply face detection faster\n",
    "    frame = vs.read()\n",
    "    orig = frame.copy()\n",
    "    frame = imutils.resize(frame, width=400)\n",
    "    # detect faces in the grayscale frame\n",
    "    rects = detector.detectMultiScale(\n",
    "        cv2.cvtColor(frame, cv2.COLOR_BGR2GRAY), scaleFactor=1.1, \n",
    "        minNeighbors=5, minSize=(30, 30))\n",
    "    # loop over the face detections and draw them on the frame\n",
    "    for (x, y, w, h) in rects:\n",
    "        cv2.rectangle(frame, (x, y), (x + w, y + h), (0, 255, 0), 2)\n",
    "        \n",
    "        \n",
    "    cv2.imshow(\"Frame\", frame)\n",
    "\n",
    "    key = cv2.waitKey(1) & 0xFF\n",
    " \n",
    "    # if the `k` key was pressed, write the *original* frame to disk\n",
    "    # so we can later process it and use it for face recognition\n",
    "    if key == ord(\"k\"):\n",
    "        p = os.path.sep.join(['dataset/', \"{}.png\".format(str(total).zfill(5))]) #Add the path here.  to which the pictures should be saved \n",
    "        cv2.imwrite(p, orig)\n",
    "        total += 1\n",
    "        # if the `q` key was pressed, break from the loop\n",
    "    elif key == ord(\"q\"):\n",
    "        break\n",
    "        \n",
    "vs.stop()\n",
    "cv2.destroyAllWindows()\n",
    "cv2.waitKey(1)"
   ]
  },
  {
   "cell_type": "code",
   "execution_count": null,
   "id": "853cc46b",
   "metadata": {},
   "outputs": [],
   "source": [
    "\n",
    "\n",
    "\n"
   ]
  }
 ],
 "metadata": {
  "kernelspec": {
   "display_name": "facereg",
   "language": "python",
   "name": "facereg"
  },
  "language_info": {
   "codemirror_mode": {
    "name": "ipython",
    "version": 3
   },
   "file_extension": ".py",
   "mimetype": "text/x-python",
   "name": "python",
   "nbconvert_exporter": "python",
   "pygments_lexer": "ipython3",
   "version": "3.8.8"
  }
 },
 "nbformat": 4,
 "nbformat_minor": 5
}
